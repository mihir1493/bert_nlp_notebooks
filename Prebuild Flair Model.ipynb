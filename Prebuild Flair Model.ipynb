{
 "cells": [
  {
   "cell_type": "code",
   "execution_count": 2,
   "id": "0bad10e6-1a0b-4762-8d72-00a43b065f29",
   "metadata": {},
   "outputs": [],
   "source": [
    "#!pip install flair"
   ]
  },
  {
   "cell_type": "code",
   "execution_count": 3,
   "id": "6324a89e-86cb-4d13-883d-6bb9574d584c",
   "metadata": {},
   "outputs": [],
   "source": [
    "import tqdm as notebook_tqdm"
   ]
  },
  {
   "cell_type": "code",
   "execution_count": 6,
   "id": "13aa3333-d4cb-4205-871c-0498e853f0ef",
   "metadata": {},
   "outputs": [],
   "source": [
    "import flair"
   ]
  },
  {
   "cell_type": "code",
   "execution_count": 1,
   "id": "20423807-df0f-4dda-b308-c73d4f25157f",
   "metadata": {},
   "outputs": [
    {
     "name": "stderr",
     "output_type": "stream",
     "text": [
      "C:\\Users\\mihir\\anaconda3\\envs\\ml\\lib\\site-packages\\tqdm\\auto.py:21: TqdmWarning: IProgress not found. Please update jupyter and ipywidgets. See https://ipywidgets.readthedocs.io/en/stable/user_install.html\n",
      "  from .autonotebook import tqdm as notebook_tqdm\n"
     ]
    },
    {
     "name": "stdout",
     "output_type": "stream",
     "text": [
      "2024-02-07 10:16:51,114 https://nlp.informatik.hu-berlin.de/resources/models/sentiment-curated-distilbert/sentiment-en-mix-distillbert_4.pt not found in cache, downloading to C:\\Users\\Public\\Documents\\Wondershare\\CreatorTemp\\tmplfuw78yz\n"
     ]
    },
    {
     "name": "stderr",
     "output_type": "stream",
     "text": [
      "100%|███████████████████████████████████████████████████████████████| 265512723/265512723 [00:23<00:00, 11133227.66B/s]"
     ]
    },
    {
     "name": "stdout",
     "output_type": "stream",
     "text": [
      "2024-02-07 10:17:15,460 copying C:\\Users\\Public\\Documents\\Wondershare\\CreatorTemp\\tmplfuw78yz to cache at C:\\Users\\mihir\\.flair\\models\\sentiment-en-mix-distillbert_4.pt\n"
     ]
    },
    {
     "name": "stderr",
     "output_type": "stream",
     "text": [
      "\n"
     ]
    },
    {
     "name": "stdout",
     "output_type": "stream",
     "text": [
      "2024-02-07 10:17:15,743 removing temp file C:\\Users\\Public\\Documents\\Wondershare\\CreatorTemp\\tmplfuw78yz\n",
      "2024-02-07 10:17:15,807 loading file C:\\Users\\mihir\\.flair\\models\\sentiment-en-mix-distillbert_4.pt\n"
     ]
    },
    {
     "name": "stderr",
     "output_type": "stream",
     "text": [
      "Downloading: 100%|███████████████████████████████████████████████████████████████████| 232k/232k [00:00<00:00, 606kB/s]\n",
      "Downloading: 100%|███████████████████████████████████████████████████████████████████| 466k/466k [00:00<00:00, 801kB/s]\n"
     ]
    }
   ],
   "source": [
    "from flair.models import TextClassifier\n",
    "from flair.data import Sentence\n",
    "classifier = TextClassifier.load('en-sentiment')"
   ]
  },
  {
   "cell_type": "code",
   "execution_count": 13,
   "id": "e5628da8-6685-45fc-a38c-3e5aa23dbef1",
   "metadata": {},
   "outputs": [
    {
     "name": "stdout",
     "output_type": "stream",
     "text": [
      "\n",
      "SUCCESS: Specified value was saved.\n"
     ]
    }
   ],
   "source": [
    "!setx PROTOCOL_BUFFERS_PYTHON_IMPLEMENTATION python"
   ]
  },
  {
   "cell_type": "code",
   "execution_count": 4,
   "id": "ba77461b-f9a3-4675-a6a2-18574d00e167",
   "metadata": {},
   "outputs": [],
   "source": [
    "text = 'i like you'"
   ]
  },
  {
   "cell_type": "code",
   "execution_count": 7,
   "id": "a803b19f-95ad-487d-9ee2-dc3f6e0fe03e",
   "metadata": {},
   "outputs": [],
   "source": [
    "sentence = flair.data.Sentence(text)"
   ]
  },
  {
   "cell_type": "code",
   "execution_count": 8,
   "id": "45a57005-79e7-41b0-a692-ac58717976be",
   "metadata": {},
   "outputs": [
    {
     "data": {
      "text/plain": [
       "Sentence: \"i like you\"   [− Tokens: 3]"
      ]
     },
     "execution_count": 8,
     "metadata": {},
     "output_type": "execute_result"
    }
   ],
   "source": [
    "sentence"
   ]
  },
  {
   "cell_type": "code",
   "execution_count": 10,
   "id": "62dd0f96-e150-42fe-a6f7-ff5e8cdba1b6",
   "metadata": {},
   "outputs": [
    {
     "data": {
      "text/plain": [
       "'i like you'"
      ]
     },
     "execution_count": 10,
     "metadata": {},
     "output_type": "execute_result"
    }
   ],
   "source": [
    "sentence.to_tokenized_string()"
   ]
  },
  {
   "cell_type": "code",
   "execution_count": 12,
   "id": "68793d71-82f5-4be7-bc7e-7eb4d1239a3b",
   "metadata": {},
   "outputs": [],
   "source": [
    "classifier.predict(sentence)"
   ]
  },
  {
   "cell_type": "code",
   "execution_count": 13,
   "id": "5f051f4c-b389-44b1-adca-3f9c7d4ce5ea",
   "metadata": {},
   "outputs": [
    {
     "data": {
      "text/plain": [
       "Sentence: \"i like you\"   [− Tokens: 3  − Sentence-Labels: {'label': [POSITIVE (0.9879)]}]"
      ]
     },
     "execution_count": 13,
     "metadata": {},
     "output_type": "execute_result"
    }
   ],
   "source": [
    "sentence"
   ]
  },
  {
   "cell_type": "markdown",
   "id": "6455749d-c0be-41da-85b2-549985c3283f",
   "metadata": {},
   "source": [
    "### Transformers\n",
    "1. Tokenize\n",
    "2. Token IDs > Model\n",
    "3. Conv Model Activation into Probabilities (Using Softmax)\n",
    "4. Argmax of Probabilities"
   ]
  },
  {
   "cell_type": "code",
   "execution_count": 14,
   "id": "07154d08-442f-4ece-be16-7ba076ac845c",
   "metadata": {},
   "outputs": [],
   "source": [
    "model_name = 'ProsusAI/finbert'"
   ]
  },
  {
   "cell_type": "code",
   "execution_count": 15,
   "id": "6fef3a78-1a4b-4087-871f-b9c6f8a5db3d",
   "metadata": {},
   "outputs": [],
   "source": [
    "from transformers import BertForSequenceClassification"
   ]
  },
  {
   "cell_type": "code",
   "execution_count": 16,
   "id": "ff69e271-458b-4b82-8244-d8f9480b0539",
   "metadata": {},
   "outputs": [
    {
     "name": "stderr",
     "output_type": "stream",
     "text": [
      "Downloading: 100%|█████████████████████████████████████████████████████████████████████| 758/758 [00:00<00:00, 605kB/s]\n",
      "Downloading: 100%|██████████████████████████████████████████████████████████████████| 438M/438M [00:33<00:00, 12.9MB/s]\n"
     ]
    }
   ],
   "source": [
    "model = BertForSequenceClassification.from_pretrained(model_name)"
   ]
  },
  {
   "cell_type": "code",
   "execution_count": 17,
   "id": "adccefca-86bd-4608-ba2b-d41df353ed66",
   "metadata": {},
   "outputs": [
    {
     "name": "stderr",
     "output_type": "stream",
     "text": [
      "Downloading: 100%|██████████████████████████████████████████████████████████████████| 232k/232k [00:00<00:00, 11.8MB/s]\n",
      "Downloading: 100%|████████████████████████████████████████████████████████████████████| 112/112 [00:00<00:00, 79.5kB/s]\n",
      "Downloading: 100%|█████████████████████████████████████████████████████████████████████| 252/252 [00:00<00:00, 247kB/s]\n"
     ]
    }
   ],
   "source": [
    "from transformers import BertTokenizer\n",
    "tokenizer = BertTokenizer.from_pretrained(model_name)"
   ]
  },
  {
   "cell_type": "code",
   "execution_count": 18,
   "id": "ef666692-6adf-4fd6-aceb-f810fbe322aa",
   "metadata": {},
   "outputs": [],
   "source": [
    "text = 'The United States was at peace with that Nation and, at the solicitation of Japan, was still in conversation with its Government and its Emperor looking toward the maintenance of peace in the Pacific. Indeed, one hour after Japanese air squadrons had commenced bombing in the American Island of Oahu, the Japanese Ambassador to the United States and his colleague delivered to our Secretary of State a formal reply to a recent American message. And while this reply stated that it seemed useless to continue the existing diplomatic negotiations, it contained no threat or hint of war or of armed attack. It will be recorded that the distance of Hawaii from Japan makes it obvious that the attack was deliberately planned many days or even weeks ago. During the intervening time the Japanese Government has deliberately sought to deceive the United States by false statements and expressions of hope for continued peace.The attack yesterday on the Hawaiian Islands has caused severe damage to American naval and military forces. I regret to tell you that very many American lives have been lost. In addition American ships have been reported torpedoed on the high seas between San Francisco and Honolulu.'"
   ]
  },
  {
   "cell_type": "code",
   "execution_count": 20,
   "id": "d87e8f98-3d96-425d-a2b5-f0a67015b504",
   "metadata": {},
   "outputs": [],
   "source": [
    "tokens = tokenizer.encode_plus(text, max_length = 512, \n",
    "                               truncation = True,\n",
    "                              padding= 'max_length',\n",
    "                              add_special_tokens = True,\n",
    "                              return_tensors = 'pt')"
   ]
  },
  {
   "cell_type": "markdown",
   "id": "3ba7901e-94c3-4dd2-93ab-2c1511ad5b94",
   "metadata": {},
   "source": [
    "[CLS] = 101 : Start Seq\n",
    "[SEP] = 102\n",
    "[MASK] = 103\n",
    "[UNK] = 100\n",
    "[PAD] = 0 "
   ]
  },
  {
   "cell_type": "code",
   "execution_count": 22,
   "id": "728320b2-68d9-44d1-9d18-753ff1f4111b",
   "metadata": {},
   "outputs": [],
   "source": [
    "output = model(**tokens)"
   ]
  },
  {
   "cell_type": "code",
   "execution_count": 23,
   "id": "6af939c6-80ad-469d-afcd-77729f80ba3d",
   "metadata": {},
   "outputs": [
    {
     "data": {
      "text/plain": [
       "SequenceClassifierOutput(loss=None, logits=tensor([[-1.5418,  1.7614,  0.5382]], grad_fn=<AddmmBackward>), hidden_states=None, attentions=None)"
      ]
     },
     "execution_count": 23,
     "metadata": {},
     "output_type": "execute_result"
    }
   ],
   "source": [
    "output"
   ]
  },
  {
   "cell_type": "code",
   "execution_count": 24,
   "id": "68a462b1-cc0f-4aed-ad3e-9ebc9644526f",
   "metadata": {},
   "outputs": [
    {
     "data": {
      "text/plain": [
       "tensor([[-1.5418,  1.7614,  0.5382]], grad_fn=<AddmmBackward>)"
      ]
     },
     "execution_count": 24,
     "metadata": {},
     "output_type": "execute_result"
    }
   ],
   "source": [
    "output[0]"
   ]
  },
  {
   "cell_type": "code",
   "execution_count": 25,
   "id": "fc35cb40-7388-4a00-a7af-d294b9fdbce5",
   "metadata": {},
   "outputs": [],
   "source": [
    "import torch.nn.functional  as F"
   ]
  },
  {
   "cell_type": "code",
   "execution_count": 27,
   "id": "478058e0-219d-4f42-89d2-7935aa29f14a",
   "metadata": {},
   "outputs": [],
   "source": [
    "probs = F.softmax(output[0], dim =-1)"
   ]
  },
  {
   "cell_type": "code",
   "execution_count": 28,
   "id": "b4e4f7a0-a33f-4871-98f7-c79193698704",
   "metadata": {},
   "outputs": [],
   "source": [
    "import torch"
   ]
  },
  {
   "cell_type": "code",
   "execution_count": 29,
   "id": "acf10dee-5062-4bfc-ab6f-0efcdb4be020",
   "metadata": {},
   "outputs": [],
   "source": [
    "pred  = torch.argmax(probs)"
   ]
  },
  {
   "cell_type": "code",
   "execution_count": 31,
   "id": "bf2b8df9-aa24-41c8-b399-f83bfcefc724",
   "metadata": {},
   "outputs": [
    {
     "data": {
      "text/plain": [
       "1"
      ]
     },
     "execution_count": 31,
     "metadata": {},
     "output_type": "execute_result"
    }
   ],
   "source": [
    "pred.item()"
   ]
  },
  {
   "cell_type": "code",
   "execution_count": null,
   "id": "ad8a27ea-6e73-4389-a163-a8e1c7909607",
   "metadata": {},
   "outputs": [],
   "source": []
  }
 ],
 "metadata": {
  "kernelspec": {
   "display_name": "ML",
   "language": "python",
   "name": "ml"
  },
  "language_info": {
   "codemirror_mode": {
    "name": "ipython",
    "version": 3
   },
   "file_extension": ".py",
   "mimetype": "text/x-python",
   "name": "python",
   "nbconvert_exporter": "python",
   "pygments_lexer": "ipython3",
   "version": "3.8.5"
  }
 },
 "nbformat": 4,
 "nbformat_minor": 5
}
